{
  "cells": [
    {
      "cell_type": "markdown",
      "metadata": {
        "id": "brtXsdDWYNwi"
      },
      "source": [
        "#INSERT PROCESS PARAMETERS IN METADATA OF SEM IMAGES\n",
        "\n",
        "Copyright (C) 2024 by Chiara Magosso\n",
        "\n",
        "This work is licensed under a Creative Commons Attribution-NonCommercial-ShareAlike 4.0 International License\n",
        "( http://creativecommons.org/licenses/by-nc-sa/4.0/ )\n",
        "\n",
        "Please contact chiara.magosso@polito.it for information."
      ]
    },
    {
      "cell_type": "markdown",
      "metadata": {
        "id": "7-GkoEu7u-R0"
      },
      "source": [
        "[![Open In Colab](https://colab.research.google.com/assets/colab-badge.svg)](https://colab.research.google.com/github/ChiaraMagosso/BlockMetrology/blob/main/Metadata_GUI.ipynb)"
      ]
    },
    {
      "cell_type": "code",
      "execution_count": 11,
      "metadata": {
        "colab": {
          "base_uri": "https://localhost:8080/"
        },
        "id": "zK_ETxqflpjU",
        "outputId": "f9c9f8e6-65f3-4370-f1ba-4ffa725b1366"
      },
      "outputs": [
        {
          "name": "stdout",
          "output_type": "stream",
          "text": [
            "Requirement already satisfied: Pillow==9.3.0 in /usr/local/lib/python3.10/dist-packages (9.3.0)\n",
            "Drive already mounted at /content/gdrive; to attempt to forcibly remount, call drive.mount(\"/content/gdrive\", force_remount=True).\n"
          ]
        }
      ],
      "source": [
        "# @title G-Drive conection { display-mode: \"form\" }\n",
        "!pip install Pillow==9.3.0\n",
        "from PIL import Image\n",
        "import json\n",
        "import os\n",
        "import tifffile\n",
        "from google.colab import drive\n",
        "drive.mount('/content/gdrive')"
      ]
    },
    {
      "cell_type": "code",
      "execution_count": 12,
      "metadata": {
        "id": "A_4XIYgx00gS"
      },
      "outputs": [],
      "source": [
        "#@title Folder - Type the exact name of the folder in which the images you want to insert metadata are located. The folder must be located in MyDrive and the images must be inside the folder without any other subfolders { run: \"auto\", display-mode: \"form\" }\n",
        "\n",
        "Folder_name = 'gui_metadata' #@param {type:\"string\"}"
      ]
    },
    {
      "cell_type": "code",
      "execution_count": 13,
      "metadata": {
        "id": "j382IbimTwS0"
      },
      "outputs": [],
      "source": [
        "#@title Samples { run: \"auto\", display-mode: \"form\" }\n",
        "\n",
        "Sample_name = 'B66 R' #@param {type:\"string\"}"
      ]
    },
    {
      "cell_type": "code",
      "execution_count": 14,
      "metadata": {
        "cellView": "form",
        "id": "C95PTGvkYcYW"
      },
      "outputs": [],
      "source": [
        "#@title Substrate { run: \"auto\"}\n",
        "\n",
        "Substrate = 'SiO_2 Termal' # @param [\"SiGe\", \"Ge\", \"SiO_2 Native\", \"SiO_2 Termal\", \"Glass\"]\n",
        "#can i insert text text\n",
        "Substrate_Thickness_nm = 100 # @param {type:\"number\"}\n",
        "Substrate_Neutralization = 'RCP' # @param ['RCP', 'NO', 'Homopolymer-OH']"
      ]
    },
    {
      "cell_type": "code",
      "execution_count": 15,
      "metadata": {
        "cellView": "form",
        "id": "WZD0bRm_bmao"
      },
      "outputs": [],
      "source": [
        "#@title Random Copolymer { run: \"auto\"}\n",
        "\n",
        "RCP_Solvent = 'Toulene' # @param ['Toulene', 'Acetone', 'IPA', 'Dichloromethane', 'dioxane',  'THF (tetrahydrofuran )', 'DMF (dimethylformamide)']\n",
        "#can i insert text text\n",
        "RCP_A= 'PS (polystyrene)' # @param ['NO','PAA (poly(acrylic acid))', 'PB (polybutadiene)', 'PBO (poly(butylene oxide))', 'PEO (poly(ethylene oxide))' ,'PCEMA (poly(2-cinnamoylethyl methacrylate))' , 'PCL (polycaprolactone)', 'PS (polystyrene)', 'PMMA', 'P2VP', 'PVP (polyvinylpyridine)', 'PLA (poly(lactic acid))', 'PDMS','PI (polyisoprene)']\n",
        "Molecular_weight_RCP_A_g_over_mol = 8570 # @param {type:\"number\"}\n",
        "\n",
        "RCP_B= 'PMMA' # @param ['NO','PAA (poly(acrylic acid))', 'PB (polybutadiene)', 'PBO (poly(butylene oxide))', 'PEO (poly(ethylene oxide))' ,'PCEMA (poly(2-cinnamoylethyl methacrylate))' , 'PCL (polycaprolactone)', 'PS (polystyrene)', 'PMMA', 'P2VP', 'PVP (polyvinylpyridine)', 'PLA (poly(lactic acid))', 'PDMS','PI (polyisoprene)']\n",
        "Molecular_weight_RCP_B_g_over_mol = 6030 # @param {type:\"number\"}\n",
        "\n",
        "RCP_C= 'NO' # @param ['NO','PAA (poly(acrylic acid))', 'PB (polybutadiene)', 'PBO (poly(butylene oxide))', 'PEO (poly(ethylene oxide))' ,'PCEMA (poly(2-cinnamoylethyl methacrylate))' , 'PCL (polycaprolactone)', 'PS (polystyrene)', 'PMMA', 'P2VP', 'PVP (polyvinylpyridine)', 'PLA (poly(lactic acid))', 'PDMS','PI (polyisoprene)']\n",
        "Molecular_weight_RCP_C_g_over_mol = 0 # @param {type:\"number\"}\n",
        "\n",
        "RCP_Grafting_Temperature_C = 270 # @param {type:\"number\"}\n",
        "RCP_Grafting_Time_s = 300 # @param {type:\"number\"}\n",
        "RCP_Thermal_Ramp_C_over_s = 15 # @param {type:\"number\"}\n",
        "\n",
        "RCP_thickness_nm = 7 # @param {type:\"number\"}"
      ]
    },
    {
      "cell_type": "code",
      "execution_count": 16,
      "metadata": {
        "cellView": "form",
        "collapsed": true,
        "id": "kbi_1c8fPzcn"
      },
      "outputs": [],
      "source": [
        "#@title Block Copolymer Blending{ run: \"auto\"}\n",
        "\n",
        "Neat_or_Blend = 'Blend' # @param ['Neat', 'Blend']\n",
        "#can i insert text text\n",
        "Homopolimer_A= 'PS (polystyrene)' # @param ['NO','PAA (poly(acrylic acid))', 'PB (polybutadiene)', 'PBO (poly(butylene oxide))', 'PEO (poly(ethylene oxide))' ,'PCEMA (poly(2-cinnamoylethyl methacrylate))' , 'PCL (polycaprolactone)', 'PS (polystyrene)', 'PMMA', 'P2VP', 'PVP (polyvinylpyridine)', 'PLA (poly(lactic acid))', 'PDMS','PI (polyisoprene)']\n",
        "Molecular_weight_homopolymer_A_g_over_mol = 3100 # @param {type:\"number\"}\n",
        "Weight_fraction_homopolymer_A_percentage = 50 # @param {type:\"number\"}\n",
        "\n",
        "Homopolimer_B= 'PMMA' # @param ['NO','PAA (poly(acrylic acid))', 'PB (polybutadiene)', 'PBO (poly(butylene oxide))', 'PEO (poly(ethylene oxide))' ,'PCEMA (poly(2-cinnamoylethyl methacrylate))' , 'PCL (polycaprolactone)', 'PS (polystyrene)', 'PMMA', 'P2VP', 'PVP (polyvinylpyridine)', 'PLA (poly(lactic acid))', 'PDMS','PI (polyisoprene)']\n",
        "Molecular_weight_homopolymer_B_g_over_mol = 3900 # @param {type:\"number\"}\n",
        "Weight_fraction_homopolymer_B_percentage = 50 # @param {type:\"number\"}\n",
        "\n",
        "Homopolimer_C= 'NO' # @param ['NO','PAA (poly(acrylic acid))', 'PB (polybutadiene)', 'PBO (poly(butylene oxide))', 'PEO (poly(ethylene oxide))' ,'PCEMA (poly(2-cinnamoylethyl methacrylate))' , 'PCL (polycaprolactone)', 'PS (polystyrene)', 'PMMA', 'P2VP', 'PVP (polyvinylpyridine)', 'PLA (poly(lactic acid))', 'PDMS','PI (polyisoprene)']\n",
        "Molecular_weight_homopolymer_C_g_over_mol = 0 # @param {type:\"number\"}\n",
        "Weight_fraction_homopolymer_C_percentage = 0 # @param {type:\"number\"}"
      ]
    },
    {
      "cell_type": "code",
      "execution_count": null,
      "metadata": {
        "cellView": "form",
        "collapsed": true,
        "id": "-8BIh073PzJM"
      },
      "outputs": [],
      "source": [
        "#@title Block Copolymer Processing { run: \"auto\"}\n",
        "\n",
        "\n",
        "#can i insert text text\n",
        "BCP_A= 'PS (polystyrene)' # @param ['NO','PAA (poly(acrylic acid))', 'PB (polybutadiene)', 'PBO (poly(butylene oxide))', 'PEO (poly(ethylene oxide))' ,'PCEMA (poly(2-cinnamoylethyl methacrylate))' , 'PCL (polycaprolactone)', 'PS (polystyrene)', 'PMMA', 'P2VP', 'PVP (polyvinylpyridine)', 'PLA (poly(lactic acid))', 'PDMS','PI (polyisoprene)']\n",
        "Molecular_weight_BCP_A_g_over_mol = 33000 # @param {type:\"number\"}\n",
        "\n",
        "BCP_B= 'PMMA' # @param ['NO','PAA (poly(acrylic acid))', 'PB (polybutadiene)', 'PBO (poly(butylene oxide))', 'PEO (poly(ethylene oxide))' ,'PCEMA (poly(2-cinnamoylethyl methacrylate))' , 'PCL (polycaprolactone)', 'PS (polystyrene)', 'PMMA', 'P2VP', 'PVP (polyvinylpyridine)', 'PLA (poly(lactic acid))', 'PDMS','PI (polyisoprene)']\n",
        "Molecular_weight_BCP_B_g_over_mol = 33000 # @param {type:\"number\"}\n",
        "\n",
        "BCP_C= 'NO' # @param ['NO','PAA (poly(acrylic acid))', 'PB (polybutadiene)', 'PBO (poly(butylene oxide))', 'PEO (poly(ethylene oxide))' ,'PCEMA (poly(2-cinnamoylethyl methacrylate))' , 'PCL (polycaprolactone)', 'PS (polystyrene)', 'PMMA', 'P2VP', 'PVP (polyvinylpyridine)', 'PLA (poly(lactic acid))', 'PDMS','PI (polyisoprene)']\n",
        "Molecular_weight_BCP_C_g_over_mol = 0 # @param {type:\"number\"}\n",
        "\n",
        "PDI_BCP = 1.09 # @param {type:\"number\"}\n",
        "\n",
        "BCP_Solvent = 'Toulene' # @param ['Toulene', 'Acetone', 'IPA', 'Dichloromethane', 'dioxane',  'THF (tetrahydrofuran )', 'DMF (dimethylformamide)']\n",
        "BCP_thickness_nm = 35 # @param {type:\"number\"}\n",
        "\n",
        "BCP_Process_Type = 'Termal' # @param ['Termal', 'Solvent', 'Microwave', 'Laser']\n",
        "BCP_Annealing_Temperature_C = 230 # @param {type:\"number\"}\n",
        "BCP_Annealing_Time_s = 600 # @param {type:\"number\"}\n",
        "BCP_Thermal_Ramp_C_over_s = 15 # @param {type:\"number\"}"
      ]
    },
    {
      "cell_type": "code",
      "execution_count": 18,
      "metadata": {
        "cellView": "form",
        "id": "jIbpe5FZVxai"
      },
      "outputs": [],
      "source": [
        "#@title Morphology { run: \"auto\"}\n",
        "\n",
        "Morphology= 'Lamellae' # @param ['NO','Spheres', 'Cylinders', 'Lamellae', 'Gyroids', 'Mixed']\n",
        "Orientation = 'Perpendicular' # @param ['Parallel', 'Perpendicular', 'Mixed']"
      ]
    },
    {
      "cell_type": "code",
      "execution_count": 19,
      "metadata": {
        "cellView": "form",
        "id": "3jGsODhvUKd-"
      },
      "outputs": [],
      "source": [
        "#@title Infiltration { run: \"auto\"}\n",
        "\n",
        "Infiltration = 'NO' # @param ['NO','SIS', 'Metal Loading']\n",
        "Metal = 'NO' # @param ['NO','Al\\u2082O\\u2083', 'TiO\\u2082', 'ZnO', 'Au', 'Ti', 'Pt', 'Cu', 'Pd']"
      ]
    },
    {
      "cell_type": "code",
      "execution_count": null,
      "metadata": {
        "colab": {
          "base_uri": "https://localhost:8080/"
        },
        "id": "7LsOkDmQkdtS",
        "outputId": "7260f87a-e759-452e-ea07-926c9addc858"
      },
      "outputs": [
        {
          "name": "stdout",
          "output_type": "stream",
          "text": [
            "\n",
            "a.tif\n",
            "Process data insert in image metadata \n",
            "\n",
            "\n",
            "b.tif\n",
            "Process data insert in image metadata \n",
            "\n",
            "\n",
            "c.tif\n",
            "Process data insert in image metadata \n",
            "\n",
            "\n",
            "d.tif\n",
            "Process data insert in image metadata \n",
            "\n",
            "\n",
            "10_DB_dic_irdi__001.tif\n",
            "Process data insert in image metadata \n",
            "\n",
            "\n",
            "\n",
            "Done for all images in the folder!\n"
          ]
        }
      ],
      "source": [
        "# @title Insert the metadata into the images { display-mode: \"form\" }\n",
        "\n",
        "indirizzo = f\"/content/gdrive/MyDrive/{Folder_name}/\"\n",
        "os.makedirs(os.path.join(indirizzo, 'image_with_process_metadata'), exist_ok=True)\n",
        "for file in os.listdir(indirizzo):\n",
        "    if file.endswith(\".tif\"):\n",
        "        print(f'\\n{file}')\n",
        "        image = Image.open(f'{indirizzo}{file}')\n",
        "\n",
        "        process_data = dict(\n",
        "            Sample_name = Sample_name,\n",
        "            Substrate = Substrate,\n",
        "            Substrate_Thickness_nm = [Substrate_Thickness_nm, r'\\nano\\metre'],\n",
        "            Substrate_Neutralization = Substrate_Neutralization,\n",
        "            RCP_Solvent = RCP_Solvent,\n",
        "            RCP_A = RCP_A,\n",
        "            Molecular_weight_RCP_A_g_over_mol = [Molecular_weight_RCP_A_g_over_mol,r'\\gram\\mole\\tothe{-1}'],\n",
        "            RCP_B= RCP_B,\n",
        "            Molecular_weight_RCP_B_g_over_mol= [Molecular_weight_RCP_B_g_over_mol,r'\\gram\\mole\\tothe{-1}'],\n",
        "            RCP_C= RCP_C,\n",
        "            Molecular_weight_RCP_C_g_over_mol= [Molecular_weight_RCP_C_g_over_mol,r'\\gram\\mole\\tothe{-1}'],\n",
        "            RCP_Grafting_Temperature_C= [RCP_Grafting_Temperature_C, r'\\degreecelsius'],\n",
        "            RCP_Grafting_Time_s= [RCP_Grafting_Time_s, r'\\second'],\n",
        "            RCP_Thermal_Ramp_C_over_s= [RCP_Thermal_Ramp_C_over_s, r'\\degreecelsius\\second\\tothe{-1}'],\n",
        "            RCP_thickness_nm = [RCP_thickness_nm, r'\\nano\\metre'],\n",
        "            Neat_or_Blend = Neat_or_Blend,\n",
        "            Homopolimer_A = Homopolimer_A,\n",
        "            Molecular_weight_homopolymer_A_g_over_mol = [Molecular_weight_homopolymer_A_g_over_mol, r'\\gram\\mole\\tothe{-1}'],\n",
        "            Weight_fraction_homopolymer_A_percentage = [Weight_fraction_homopolymer_A_percentage, r'\\percent'],\n",
        "            Homopolimer_B = Homopolimer_B,\n",
        "            Molecular_weight_homopolymer_B_g_over_mol = [Molecular_weight_homopolymer_B_g_over_mol, r'\\gram\\mole\\tothe{-1}'],\n",
        "            Weight_fraction_homopolymer_B_percentage = [Weight_fraction_homopolymer_B_percentage, r'\\percent'],\n",
        "            Homopolimer_C= Homopolimer_C,\n",
        "            Molecular_weight_homopolymer_C_g_over_mol = [Molecular_weight_homopolymer_C_g_over_mol, r'\\gram\\mole\\tothe{-1}'],\n",
        "            Weight_fraction_homopolymer_C_percentage = [Weight_fraction_homopolymer_C_percentage, r'\\percent'],\n",
        "            Polimer_A = BCP_A,\n",
        "            Molecular_weight_BCP_A_g_over_mol = [Molecular_weight_BCP_A_g_over_mol,r'\\gram\\mole\\tothe{-1}'],\n",
        "            Polimer_B = BCP_B,\n",
        "            Molecular_weight_BCP_B_g_over_mol = [Molecular_weight_BCP_B_g_over_mol, r'\\gram\\mole\\tothe{-1}'],\n",
        "            Polimer_C = BCP_C,\n",
        "            Molecular_weight_BCP_C_g_over_mol = [Molecular_weight_BCP_C_g_over_mol, r'\\gram\\mole\\tothe{-1}'],\n",
        "            PDI_BCP = [PDI_BCP, r'\\one'],\n",
        "            BCP_Solvent= BCP_Solvent,\n",
        "            BCP_Thickness_nm= [BCP_thickness_nm, r'\\nano\\metre'],\n",
        "            BCP_Process_Type= BCP_Process_Type,\n",
        "            BCP_Annealing_Temperature_C = [BCP_Annealing_Temperature_C,r'\\degreecelsius'],\n",
        "            BCP_Annealing_Time_s = [BCP_Annealing_Time_s, r'\\second'],\n",
        "            BCP_Thermal_Ramp_C_over_s = [BCP_Thermal_Ramp_C_over_s, r'\\degreecelsius\\second\\tothe{-1}'],\n",
        "            Morphology = Morphology,\n",
        "            Orientation = Orientation,\n",
        "            Infiltration = Infiltration,\n",
        "            Metal = Metal\n",
        "          )\n",
        "\n",
        "        process_data = json.dumps(process_data)\n",
        "        outfile = f'{indirizzo}/image_with_process_metadata/{file}'\n",
        "        image.save(outfile, tiffinfo=image.tag, description=process_data)\n",
        "        print('Process data insert in image metadata \\n')\n",
        "\n",
        "print('\\n\\nDone for all images in the folder!')"
      ]
    }
  ],
  "metadata": {
    "colab": {
      "provenance": []
    },
    "kernelspec": {
      "display_name": "Python 3",
      "name": "python3"
    },
    "language_info": {
      "codemirror_mode": {
        "name": "ipython",
        "version": 3
      },
      "file_extension": ".py",
      "mimetype": "text/x-python",
      "name": "python",
      "nbconvert_exporter": "python",
      "pygments_lexer": "ipython3",
      "version": "3.8.7"
    }
  },
  "nbformat": 4,
  "nbformat_minor": 0
}
